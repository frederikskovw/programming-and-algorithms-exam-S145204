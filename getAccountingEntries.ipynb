{
 "cells": [
  {
   "cell_type": "markdown",
   "metadata": {},
   "source": [
    "This file will be used to get accounting entries from the bookkeeping program. Initially, the program will be used to retrieve entries from the most-used bookkeeping program in Denmark (+85% market share) - Visma E-conomic"
   ]
  },
  {
   "cell_type": "code",
   "execution_count": 3,
   "metadata": {},
   "outputs": [],
   "source": [
    "import os\n",
    "import aiohttp\n",
    "import asyncio\n",
    "import pandas as pd\n",
    "from datetime import datetime\n",
    "from openpyxl import load_workbook\n",
    "from dotenv import load_dotenv"
   ]
  },
  {
   "cell_type": "code",
   "execution_count": null,
   "metadata": {},
   "outputs": [],
   "source": [
    "# This starts by loading the environment variables from the .env file.\n",
    "# The program asserts that the environment variables are set and not placeholders.\n",
    "\n",
    "load_dotenv()\n",
    "\n",
    "app_secret_token = os.getenv('X_AppSecretToken')\n",
    "agreement_grant_token = os.getenv('X_AgreementGrantToken')\n",
    "\n",
    "assert app_secret_token is not None, \"X_AppSecretToken is missing. Please add it to your .env file.\"\n",
    "assert app_secret_token != \"ADD-APPSECRETTOKEN-HERE\", \"X_AppSecretToken is a placeholder. Please add a valid token.\"\n",
    "\n",
    "assert agreement_grant_token is not None, \"X_AgreementGrantToken is missing. Please add it to your .env file.\"\n",
    "assert agreement_grant_token != \"ADD-AGREEMENTGRANTTOKEN-HERE\", \"X_AgreementGrantToken is a placeholder. Please add a valid token.\""
   ]
  }
 ],
 "metadata": {
  "kernelspec": {
   "display_name": "Python 3",
   "language": "python",
   "name": "python3"
  },
  "language_info": {
   "codemirror_mode": {
    "name": "ipython",
    "version": 3
   },
   "file_extension": ".py",
   "mimetype": "text/x-python",
   "name": "python",
   "nbconvert_exporter": "python",
   "pygments_lexer": "ipython3",
   "version": "3.13.1"
  }
 },
 "nbformat": 4,
 "nbformat_minor": 2
}
